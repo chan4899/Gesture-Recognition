{
 "cells": [
  {
   "cell_type": "code",
   "execution_count": 241,
   "metadata": {},
   "outputs": [],
   "source": [
    "import os\n",
    "import glob\n",
    "import torch\n",
    "from PIL import Image\n",
    "import torchvision.transforms as transforms\n",
    "import torch.nn as nn\n",
    "import matplotlib.pyplot as plt\n",
    "import random\n",
    "from sklearn.metrics import accuracy_score, precision_recall_fscore_support\n",
    "import warnings\n",
    "warnings.filterwarnings(\"ignore\")"
   ]
  },
  {
   "cell_type": "code",
   "execution_count": 242,
   "metadata": {},
   "outputs": [
    {
     "name": "stdout",
     "output_type": "stream",
     "text": [
      "78\n"
     ]
    }
   ],
   "source": [
    "dataset_path = \"/home/btp/pkb_btp_1/gesture_reco/dataset\"\n",
    "image_data = []\n",
    "for i, label in enumerate(os.listdir(dataset_path)):\n",
    "    labelwise_image_path = os.path.join(dataset_path, label)\n",
    "    images = glob.glob(os.path.join(labelwise_image_path, \"*.jpg\"))\n",
    "    data = zip(images, [i]*len(images), [label]*len(images))\n",
    "    for j in data:\n",
    "        image_dict = {'path': j[0], 'label': j[1], 'label_names': j[2]}\n",
    "        image_data.append(image_dict)\n",
    "\n",
    "print(len(image_data))"
   ]
  },
  {
   "cell_type": "code",
   "execution_count": 243,
   "metadata": {},
   "outputs": [],
   "source": [
    "seed = 43\n",
    "random.seed(seed)\n",
    "np.random.seed(seed)\n",
    "torch.manual_seed(seed)\n",
    "epochs = 100\n",
    "batch_size = 16\n",
    "lr = 0.01\n",
    "weight_decay = 0.001\n",
    "image_size = 64\n",
    "dataset_path = \"/home/btp/pkb_btp_1/gesture_reco/dataset\""
   ]
  },
  {
   "cell_type": "code",
   "execution_count": 244,
   "metadata": {},
   "outputs": [],
   "source": [
    "class GestureDataset(torch.utils.data.Dataset):\n",
    "    def __init__(self, dataset_path, train=True):\n",
    "        self.dataset_path = dataset_path\n",
    "        self.train = train\n",
    "        self.image_data = []\n",
    "        for i, label in enumerate(os.listdir(dataset_path)):\n",
    "            labelwise_image_path = os.path.join(dataset_path, label)\n",
    "            images = glob.glob(os.path.join(labelwise_image_path, \"*.jpg\"))\n",
    "            data = zip(images, [i]*len(images), [label]*len(images))\n",
    "            for j in data:\n",
    "                image_dict = {'path': j[0], 'label': j[1], 'label_names': j[2]}\n",
    "                self.image_data.append(image_dict)\n",
    "                \n",
    "        self.transform = transforms.Compose([\n",
    "                            transforms.Resize((image_size, image_size)),\n",
    "                            transforms.ToTensor(),\n",
    "                            transforms.Normalize((0.485, 0.456, 0.406), (0.229, 0.224, 0.225))])\n",
    "        \n",
    "        random.seed(19)\n",
    "        random.shuffle(self.image_data)\n",
    "        if self.train:\n",
    "            self.image_data = self.image_data[0:60]\n",
    "        else:\n",
    "            self.image_data = self.image_data[60:-1]\n",
    "\n",
    "    def __getitem__(self, index):\n",
    "        image_dict = self.image_data[index]\n",
    "        img = Image.open(image_dict['path'])\n",
    "        img = self.transform(img)\n",
    "        return {'image': img, 'label': image_dict['label']}\n",
    "        \n",
    "    \n",
    "    def __len__(self):\n",
    "        return len(self.image_data)"
   ]
  },
  {
   "cell_type": "code",
   "execution_count": 245,
   "metadata": {},
   "outputs": [],
   "source": [
    "train_dataset = GestureDataset(dataset_path, train=True)\n",
    "test_dataset =  GestureDataset(dataset_path, train=False)"
   ]
  },
  {
   "cell_type": "code",
   "execution_count": 246,
   "metadata": {},
   "outputs": [],
   "source": [
    "train_dataloader = torch.utils.data.DataLoader(train_dataset, batch_size=batch_size, shuffle=True, num_workers=0)\n",
    "test_dataloader = torch.utils.data.DataLoader(test_dataset, batch_size=len(test_dataset), shuffle=True, num_workers=0)"
   ]
  },
  {
   "cell_type": "code",
   "execution_count": 247,
   "metadata": {},
   "outputs": [
    {
     "data": {
      "text/plain": [
       "tensor([1, 0, 0, 3, 1, 2, 0, 1, 1, 0, 1, 2, 0, 3, 0, 3])"
      ]
     },
     "execution_count": 247,
     "metadata": {},
     "output_type": "execute_result"
    }
   ],
   "source": [
    "data = next(iter(train_dataloader))\n",
    "data['label']"
   ]
  },
  {
   "cell_type": "code",
   "execution_count": 248,
   "metadata": {},
   "outputs": [],
   "source": [
    "class NN_model(nn.Module):\n",
    "    def __init__(self):\n",
    "        super(NN_model, self).__init__()\n",
    "        self.conv1 = nn.Conv2d(in_channels=3, out_channels=8, kernel_size=4, stride=2)\n",
    "        self.conv2 = nn.Conv2d(in_channels=8, out_channels=8, kernel_size=4, stride=2)\n",
    "        self.conv3 = nn.Conv2d(in_channels=8, out_channels=8, kernel_size=4, stride=2)\n",
    "        self.conv4 = nn.Conv2d(in_channels=8, out_channels=1, kernel_size=(3, 6), stride=1)\n",
    "        self.relu = nn.ReLU()\n",
    "        \n",
    "    def forward(self, x):\n",
    "        x = self.relu(self.conv1(x))\n",
    "        x = self.relu(self.conv2(x))\n",
    "        x = self.relu(self.conv3(x))\n",
    "        x = self.conv4(x)\n",
    "        x = x.view(x.shape[0], -1)\n",
    "        return x"
   ]
  },
  {
   "cell_type": "code",
   "execution_count": 249,
   "metadata": {},
   "outputs": [],
   "source": [
    "model = NN_model()"
   ]
  },
  {
   "cell_type": "code",
   "execution_count": 250,
   "metadata": {},
   "outputs": [],
   "source": [
    "criterion = nn.CrossEntropyLoss()"
   ]
  },
  {
   "cell_type": "code",
   "execution_count": 236,
   "metadata": {},
   "outputs": [],
   "source": [
    "loss = criterion(model(data['image']), data['label'])"
   ]
  },
  {
   "cell_type": "code",
   "execution_count": 237,
   "metadata": {},
   "outputs": [],
   "source": [
    "optimizer = torch.optim.SGD(model.parameters(), lr=lr, weight_decay=weight_decay)"
   ]
  },
  {
   "cell_type": "code",
   "execution_count": 238,
   "metadata": {},
   "outputs": [
    {
     "name": "stdout",
     "output_type": "stream",
     "text": [
      "Epoch 0 Accuracy 0.125 Precision Recall Scores (array([0.2173913 , 0.09090909, 0.        , 0.        ]), array([0.3125    , 0.11111111, 0.        , 0.        ]), array([0.25641026, 0.1       , 0.        , 0.        ]), array([16,  9,  9, 14]))\n",
      "---------------------------------------------------------------------------------------------------\n",
      "Epoch 10 Accuracy 0.6041666666666666 Precision Recall Scores (array([0.56521739, 0.45454545, 0.        , 1.        ]), array([0.76470588, 0.625     , 0.        , 0.73333333]), array([0.65      , 0.52631579, 0.        , 0.84615385]), array([17,  8,  8, 15]))\n",
      "---------------------------------------------------------------------------------------------------\n",
      "Epoch 20 Accuracy 0.6458333333333334 Precision Recall Scores (array([0.57692308, 0.7       , 0.        , 1.        ]), array([0.83333333, 0.77777778, 0.        , 0.69230769]), array([0.68181818, 0.73684211, 0.        , 0.81818182]), array([18,  9,  8, 13]))\n",
      "---------------------------------------------------------------------------------------------------\n",
      "Epoch 30 Accuracy 0.5833333333333334 Precision Recall Scores (array([0.51515152, 1.        , 0.        , 1.        ]), array([1.        , 0.42857143, 0.        , 0.53333333]), array([0.68      , 0.6       , 0.        , 0.69565217]), array([17,  7,  9, 15]))\n",
      "---------------------------------------------------------------------------------------------------\n",
      "Epoch 40 Accuracy 0.75 Precision Recall Scores (array([0.66666667, 1.        , 0.        , 0.92307692]), array([1.  , 0.75, 0.  , 0.75]), array([0.8       , 0.85714286, 0.        , 0.82758621]), array([18,  8,  6, 16]))\n",
      "---------------------------------------------------------------------------------------------------\n",
      "Epoch 50 Accuracy 0.8125 Precision Recall Scores (array([0.73684211, 0.81818182, 1.        , 0.875     ]), array([0.93333333, 0.81818182, 0.25      , 1.        ]), array([0.82352941, 0.81818182, 0.4       , 0.93333333]), array([15, 11,  8, 14]))\n",
      "---------------------------------------------------------------------------------------------------\n",
      "Epoch 60 Accuracy 0.8958333333333334 Precision Recall Scores (array([0.86666667, 0.8       , 1.        , 0.94444444]), array([0.92857143, 0.88888889, 0.625     , 1.        ]), array([0.89655172, 0.84210526, 0.76923077, 0.97142857]), array([14,  9,  8, 17]))\n",
      "---------------------------------------------------------------------------------------------------\n",
      "Epoch 70 Accuracy 0.9375 Precision Recall Scores (array([0.94444444, 0.8       , 1.        , 1.        ]), array([0.94444444, 0.88888889, 0.83333333, 1.        ]), array([0.94444444, 0.84210526, 0.90909091, 1.        ]), array([18,  9,  6, 15]))\n",
      "---------------------------------------------------------------------------------------------------\n",
      "Epoch 80 Accuracy 0.9375 Precision Recall Scores (array([0.94736842, 0.77777778, 1.        , 1.        ]), array([0.94736842, 1.        , 0.77777778, 1.        ]), array([0.94736842, 0.875     , 0.875     , 1.        ]), array([19,  7,  9, 13]))\n",
      "---------------------------------------------------------------------------------------------------\n",
      "Epoch 90 Accuracy 1.0 Precision Recall Scores (array([1., 1., 1., 1.]), array([1., 1., 1., 1.]), array([1., 1., 1., 1.]), array([17,  7,  7, 17]))\n",
      "---------------------------------------------------------------------------------------------------\n",
      "Epoch 100 Accuracy 1.0 Precision Recall Scores (array([1., 1., 1., 1.]), array([1., 1., 1., 1.]), array([1., 1., 1., 1.]), array([17,  8,  7, 16]))\n",
      "---------------------------------------------------------------------------------------------------\n",
      "Epoch 110 Accuracy 1.0 Precision Recall Scores (array([1., 1., 1., 1.]), array([1., 1., 1., 1.]), array([1., 1., 1., 1.]), array([17, 10,  7, 14]))\n",
      "---------------------------------------------------------------------------------------------------\n",
      "Epoch 120 Accuracy 1.0 Precision Recall Scores (array([1., 1., 1., 1.]), array([1., 1., 1., 1.]), array([1., 1., 1., 1.]), array([17, 10,  8, 13]))\n",
      "---------------------------------------------------------------------------------------------------\n",
      "Epoch 130 Accuracy 1.0 Precision Recall Scores (array([1., 1., 1., 1.]), array([1., 1., 1., 1.]), array([1., 1., 1., 1.]), array([17,  9,  7, 15]))\n",
      "---------------------------------------------------------------------------------------------------\n",
      "Epoch 140 Accuracy 1.0 Precision Recall Scores (array([1., 1., 1., 1.]), array([1., 1., 1., 1.]), array([1., 1., 1., 1.]), array([19,  6,  7, 16]))\n",
      "---------------------------------------------------------------------------------------------------\n",
      "Epoch 150 Accuracy 1.0 Precision Recall Scores (array([1., 1., 1., 1.]), array([1., 1., 1., 1.]), array([1., 1., 1., 1.]), array([17,  8,  6, 17]))\n",
      "---------------------------------------------------------------------------------------------------\n",
      "Epoch 160 Accuracy 1.0 Precision Recall Scores (array([1., 1., 1., 1.]), array([1., 1., 1., 1.]), array([1., 1., 1., 1.]), array([17,  8,  7, 16]))\n",
      "---------------------------------------------------------------------------------------------------\n",
      "Epoch 170 Accuracy 1.0 Precision Recall Scores (array([1., 1., 1., 1.]), array([1., 1., 1., 1.]), array([1., 1., 1., 1.]), array([16, 10,  6, 16]))\n",
      "---------------------------------------------------------------------------------------------------\n",
      "Epoch 180 Accuracy 1.0 Precision Recall Scores (array([1., 1., 1., 1.]), array([1., 1., 1., 1.]), array([1., 1., 1., 1.]), array([15, 10,  8, 15]))\n",
      "---------------------------------------------------------------------------------------------------\n",
      "Epoch 190 Accuracy 1.0 Precision Recall Scores (array([1., 1., 1., 1.]), array([1., 1., 1., 1.]), array([1., 1., 1., 1.]), array([15,  9,  8, 16]))\n",
      "---------------------------------------------------------------------------------------------------\n",
      "Maximum train accuracy is 1.0\n",
      "Final test accuracy is 0.9411764705882353\n"
     ]
    }
   ],
   "source": [
    "losses = []\n",
    "accuracy = []\n",
    "for i in range(epochs):\n",
    "    iter_dataloader = iter(train_dataloader)\n",
    "    all_labels = []\n",
    "    all_preds = []\n",
    "    for j in range(len(train_dataset)//batch_size):\n",
    "        data = next(iter_dataloader)\n",
    "        images = data[\"image\"]\n",
    "        labels = data[\"label\"]\n",
    "        \n",
    "        preds = model(images)\n",
    "        loss = criterion(preds, labels)\n",
    "        \n",
    "        loss.backward() \n",
    "        optimizer.step() \n",
    "        optimizer.zero_grad() \n",
    "        losses.append(loss.data)\n",
    "        \n",
    "        all_labels.append(labels)\n",
    "        all_preds.append(preds)\n",
    "        \n",
    "    all_labels = torch.cat(all_labels)\n",
    "    all_preds = torch.cat(all_preds)\n",
    "    epoch_acc = accuracy_score(all_labels, torch.argmax(all_preds, axis=1).numpy())\n",
    "    epoch_pre = precision_recall_fscore_support(all_labels, torch.argmax(all_preds, axis=1).numpy())\n",
    "    accuracy.append(epoch_acc)\n",
    "    if i%10 == 0:\n",
    "        print(\"Epoch\", i, \"Accuracy\", epoch_acc, \"Precision Recall Scores\", epoch_pre)\n",
    "        print(\"---------------------------------------------------------------------------------------------------\")\n",
    "    \n",
    "data = next(iter(test_dataloader))\n",
    "images = data[\"image\"]\n",
    "labels = data[\"label\"]\n",
    "\n",
    "preds = model(images)\n",
    "test_acc = accuracy_score(labels, torch.argmax(preds, axis=1).numpy())\n",
    "print(\"Maximum train accuracy is\", max(accuracy))\n",
    "print(\"Final test accuracy is\", test_acc)"
   ]
  },
  {
   "cell_type": "code",
   "execution_count": 239,
   "metadata": {},
   "outputs": [
    {
     "name": "stdout",
     "output_type": "stream",
     "text": [
      "tensor([2, 2, 2, 2, 0, 3, 0, 0, 3, 3, 1, 0, 2, 1, 3, 3, 0]) [2 2 2 2 0 3 0 1 3 3 1 0 2 1 3 3 0]\n"
     ]
    }
   ],
   "source": [
    "print(labels, torch.argmax(preds, axis=1).numpy())"
   ]
  },
  {
   "cell_type": "code",
   "execution_count": 240,
   "metadata": {},
   "outputs": [
    {
     "data": {
      "image/png": "[encoded data removed]",
      "text/plain": [
       "<Figure size 720x360 with 2 Axes>"
      ]
     },
     "metadata": {
      "needs_background": "light"
     },
     "output_type": "display_data"
    }
   ],
   "source": [
    "plt.figure(figsize=(10, 5))\n",
    "plt.subplot(1, 2, 1)\n",
    "plt.plot(losses, '-r')\n",
    "plt.title(\"Losses\")\n",
    "plt.subplot(1, 2, 2)\n",
    "plt.title(\"Accuracy\")\n",
    "plt.plot(accuracy)\n",
    "plt.show()"
   ]
  },
  {
   "cell_type": "markdown",
   "metadata": {},
   "source": [
    "#### With lr 0.01, wd=0.001\n",
    "### Maximum train accuracy is 0.9791666666666666\n",
    "### Final test accuracy is 1.0"
   ]
  },
  {
   "cell_type": "code",
   "execution_count": null,
   "metadata": {},
   "outputs": [],
   "source": []
  }
 ],
 "metadata": {
  "kernelspec": {
   "display_name": "btp1",
   "language": "python",
   "name": "btp1"
  },
  "language_info": {
   "codemirror_mode": {
    "name": "ipython",
    "version": 3
   },
   "file_extension": ".py",
   "mimetype": "text/x-python",
   "name": "python",
   "nbconvert_exporter": "python",
   "pygments_lexer": "ipython3",
   "version": "3.7.5"
  }
 },
 "nbformat": 4,
 "nbformat_minor": 4
}
